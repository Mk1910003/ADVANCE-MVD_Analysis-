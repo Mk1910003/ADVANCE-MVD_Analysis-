{
 "cells": [
  {
   "cell_type": "markdown",
   "id": "f84ad896-75bb-4b1a-a16f-bca28e27d024",
   "metadata": {},
   "source": [
    "# Problem 1: Handling Missing Data\n",
    "Compute covariance when some data points are missing."
   ]
  },
  {
   "cell_type": "markdown",
   "id": "9125a5fe-9a1f-4453-bc41-c74595ba6f36",
   "metadata": {},
   "source": [
    "# Method – Pairwise deletion"
   ]
  },
  {
   "cell_type": "code",
   "execution_count": 1,
   "id": "807f5ae7-512a-4d31-911a-01f2f4d7181f",
   "metadata": {},
   "outputs": [
    {
     "name": "stdout",
     "output_type": "stream",
     "text": [
      "Original Data:\n",
      "       X     Y    Z\n",
      "0   2.0   1.0  5.0\n",
      "1   4.0   NaN  3.0\n",
      "2   NaN   6.0  4.0\n",
      "3   8.0   8.0  NaN\n",
      "4  10.0  10.0  9.0\n",
      "\n",
      "Covariance Matrix (handling missing data):\n",
      "            X          Y          Z\n",
      "X  13.333333  19.666667  10.666667\n",
      "Y  19.666667  14.916667   8.500000\n",
      "Z  10.666667   8.500000   6.916667\n"
     ]
    }
   ],
   "source": [
    "import pandas as pd\n",
    "import numpy as np\n",
    "\n",
    "# Sample data with missing values\n",
    "data = {\n",
    "    'X': [2, 4, np.nan, 8, 10],\n",
    "    'Y': [1, np.nan, 6, 8, 10],\n",
    "    'Z': [5, 3, 4, np.nan, 9]\n",
    "}\n",
    "df = pd.DataFrame(data)\n",
    "print(\"Original Data:\\n\", df)\n",
    "\n",
    "# Compute covariance matrix, ignoring NaNs\n",
    "cov_matrix = df.cov()\n",
    "print(\"\\nCovariance Matrix (handling missing data):\\n\", cov_matrix)\n"
   ]
  },
  {
   "cell_type": "markdown",
   "id": "18d49d62-05a8-44ce-8333-56ee0ea1e655",
   "metadata": {},
   "source": [
    "# Explanation:\n",
    "\n",
    "pandas.DataFrame.cov() automatically handles missing values using pairwise deletion (ignores NaNs in each pair of columns)."
   ]
  },
  {
   "cell_type": "markdown",
   "id": "ab672504-3de8-443f-a1db-33891aec18aa",
   "metadata": {},
   "source": [
    "# Interpretation:\n",
    "All three variables show positive associations, with \n",
    "𝑋\n",
    "X and \n",
    "𝑌\n",
    "Y having the strongest link.\n",
    "However, the covariance values imply impossible correlations (> 1), meaning the matrix is not valid for multivariate analysis.\n",
    "This likely results from pairwise deletion with missing data, so a consistent method like listwise deletion or imputation is needed."
   ]
  },
  {
   "cell_type": "markdown",
   "id": "a35cff7f-e987-442c-b229-9f0024181c4d",
   "metadata": {},
   "source": [
    "# Method  – Imputation (fill missing values)"
   ]
  },
  {
   "cell_type": "code",
   "execution_count": 2,
   "id": "c0f7d014-2f52-4ad6-939f-b9a4b3b320c8",
   "metadata": {},
   "outputs": [
    {
     "name": "stdout",
     "output_type": "stream",
     "text": [
      "        X          Y         Z\n",
      "X  10.000   9.875000  5.125000\n",
      "Y   9.875  11.187500  3.921875\n",
      "Z   5.125   3.921875  5.187500\n"
     ]
    }
   ],
   "source": [
    "df_mean_imputed = df.fillna(df.mean())\n",
    "cov_imputed = df_mean_imputed.cov()\n",
    "print(cov_imputed)\n"
   ]
  },
  {
   "cell_type": "markdown",
   "id": "c6e9e42b-3fe5-491b-920f-076c6dfa8109",
   "metadata": {},
   "source": [
    "# Method  – Listwise deletion\n"
   ]
  },
  {
   "cell_type": "code",
   "execution_count": 3,
   "id": "41643ee3-901c-40f1-877e-af9151b8401c",
   "metadata": {},
   "outputs": [
    {
     "name": "stdout",
     "output_type": "stream",
     "text": [
      "      X     Y     Z\n",
      "X  32.0  36.0  16.0\n",
      "Y  36.0  40.5  18.0\n",
      "Z  16.0  18.0   8.0\n"
     ]
    }
   ],
   "source": [
    "cov_listwise = df.dropna().cov()\n",
    "print(cov_listwise)\n"
   ]
  },
  {
   "cell_type": "markdown",
   "id": "e5c19dd4-ca1b-4cc0-ba79-3f861467d569",
   "metadata": {},
   "source": [
    "# Problem 2: Covariance Matrix in Multivariate Normal Distribution\n",
    "Role: The covariance matrix defines the shape and orientation of the multivariate normal distribution."
   ]
  },
  {
   "cell_type": "code",
   "execution_count": 4,
   "id": "8412c1c2-b66e-4b19-a146-b7157207e717",
   "metadata": {},
   "outputs": [
    {
     "name": "stdout",
     "output_type": "stream",
     "text": [
      "\n",
      "Sample Multivariate Data (first 5 rows):\n",
      " [[-1.16068785 -0.97796708]\n",
      " [-1.26581565 -0.62264551]\n",
      " [-1.04046639 -0.57166306]\n",
      " [ 0.34338426 -0.07329817]\n",
      " [ 1.0328048   1.34287471]]\n",
      "\n",
      "Covariance Matrix:\n",
      " [[0.99009368 0.76465287]\n",
      " [0.76465287 0.92259954]]\n"
     ]
    }
   ],
   "source": [
    "# Mean vector\n",
    "mean = [0, 0]\n",
    "\n",
    "# Covariance matrix\n",
    "cov = [[1, 0.8],  # covariance between X1 and X2\n",
    "       [0.8, 1]]\n",
    "\n",
    "# Generate multivariate normal data\n",
    "data = np.random.multivariate_normal(mean, cov, size=500)\n",
    "print(\"\\nSample Multivariate Data (first 5 rows):\\n\", data[:5])\n",
    "\n",
    "# Compute covariance matrix from generated data\n",
    "cov_matrix = np.cov(data, rowvar=False)\n",
    "print(\"\\nCovariance Matrix:\\n\", cov_matrix)\n"
   ]
  },
  {
   "cell_type": "markdown",
   "id": "f31415a5-945e-4846-8fb9-28535c160f5c",
   "metadata": {},
   "source": [
    "# problem 3: Visualizing Covariance Matrix"
   ]
  },
  {
   "cell_type": "code",
   "execution_count": 5,
   "id": "142aea75-1b51-4386-a992-990e0f10f865",
   "metadata": {},
   "outputs": [
    {
     "data": {
      "image/png": "[encoded data removed]",
      "text/plain": [
       "<Figure size 600x500 with 2 Axes>"
      ]
     },
     "metadata": {},
     "output_type": "display_data"
    }
   ],
   "source": [
    "import matplotlib.pyplot as plt\n",
    "import seaborn as sns\n",
    "\n",
    "# Using the covariance matrix from Problem 2\n",
    "plt.figure(figsize=(6,5))\n",
    "sns.heatmap(cov_matrix, annot=True, fmt=\".2f\", cmap=\"coolwarm\",\n",
    "            xticklabels=['X1','X2'], yticklabels=['X1','X2'])\n",
    "plt.title(\"Covariance Matrix Heatmap\")\n",
    "plt.show()\n"
   ]
  },
  {
   "cell_type": "markdown",
   "id": "7afe201e-5dc1-40f3-8b53-047df21d8f6b",
   "metadata": {},
   "source": [
    "Te heatmap showing values for two variables (X1 and X2).\n",
    "From the numbers:\n",
    "\n",
    "X1 variance ≈ 0.99 (top-left)\n",
    "\n",
    "X2 variance ≈ 0.92 (bottom-right)\n",
    "\n",
    "Covariance between X1 and X2 ≈ 0.76 (both off-diagonals)\n",
    "\n",
    "The color bar suggests higher values are in red, lower in blue."
   ]
  },
  {
   "cell_type": "markdown",
   "id": "95dd748b-54c6-43b8-8bc0-d864e3a04a91",
   "metadata": {},
   "source": [
    "# Problem 4: Covariance Matrix for Time Series Data"
   ]
  },
  {
   "cell_type": "code",
   "execution_count": 6,
   "id": "250dc040-f1ed-4d36-8e88-a1da4ce85b76",
   "metadata": {},
   "outputs": [
    {
     "name": "stdout",
     "output_type": "stream",
     "text": [
      "Time Series Data:\n",
      "             Stock_A  Stock_B  Stock_C\n",
      "2025-01-01      100       50      200\n",
      "2025-01-02      102       51      198\n",
      "2025-01-03      101       52      202\n",
      "2025-01-04      105       53      205\n",
      "2025-01-05      107       55      207\n",
      "\n",
      "Covariance Matrix of Returns:\n",
      "           Stock_A   Stock_B   Stock_C\n",
      "Stock_A  0.000414  0.000009 -0.000074\n",
      "Stock_B  0.000009  0.000082  0.000003\n",
      "Stock_C -0.000074  0.000003  0.000174\n"
     ]
    }
   ],
   "source": [
    "# Sample time series data\n",
    "dates = pd.date_range('2025-01-01', periods=5)\n",
    "ts_data = pd.DataFrame({\n",
    "    'Stock_A': [100, 102, 101, 105, 107],\n",
    "    'Stock_B': [50, 51, 52, 53, 55],\n",
    "    'Stock_C': [200, 198, 202, 205, 207]\n",
    "}, index=dates)\n",
    "\n",
    "print(\"Time Series Data:\\n\", ts_data)\n",
    "\n",
    "# Compute covariance matrix for returns\n",
    "returns = ts_data.pct_change().dropna()  # daily returns\n",
    "cov_matrix = returns.cov()\n",
    "print(\"\\nCovariance Matrix of Returns:\\n\", cov_matrix)\n"
   ]
  },
  {
   "cell_type": "markdown",
   "id": "5adb9768-9455-4dc4-9014-df3cdf9a71a4",
   "metadata": {},
   "source": [
    "# Interpretation \n",
    "Stock_A has the highest volatility (0.000414), Stock_B the lowest (0.000082), and Stock_C is in between (0.000174).\n",
    "Stock_A and Stock_C show a small negative relationship (-0.000074), suggesting mild diversification potential.\n",
    "Stock_A and Stock_B have a very small positive covariance (0.000009).\n",
    "Stock_B and Stock_C are almost uncorrelated (0.000003).\n",
    "Overall, low covariances indicate weak co-movement and possible portfolio risk reduction through diversification."
   ]
  },
  {
   "cell_type": "code",
   "execution_count": null,
   "id": "9cd9da28-a107-4c28-be57-978340f2d732",
   "metadata": {},
   "outputs": [],
   "source": []
  }
 ],
 "metadata": {
  "kernelspec": {
   "display_name": "Python 3 (ipykernel)",
   "language": "python",
   "name": "python3"
  },
  "language_info": {
   "codemirror_mode": {
    "name": "ipython",
    "version": 3
   },
   "file_extension": ".py",
   "mimetype": "text/x-python",
   "name": "python",
   "nbconvert_exporter": "python",
   "pygments_lexer": "ipython3",
   "version": "3.13.5"
  }
 },
 "nbformat": 4,
 "nbformat_minor": 5
}
