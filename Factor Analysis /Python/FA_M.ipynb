{
 "cells": [
  {
   "cell_type": "markdown",
   "id": "c4fc038b-9db0-4c92-a13c-f049a71acf59",
   "metadata": {},
   "source": [
    "# Factor Analysis (FA)\n",
    "Factor Analysis (FA) is a multivariate statistical technique used to identify latent variables (factors) that explain the patterns of correlations among a set of observed variables.\n",
    "\n",
    "It’s like PCA, but while PCA focuses on maximizing variance, FA focuses on explaining the covariance structure using a smaller number of unobserved factors."
   ]
  },
  {
   "cell_type": "code",
   "execution_count": 1,
   "id": "d823a18f-e3a5-4f15-86d0-dbcd913cf3d2",
   "metadata": {},
   "outputs": [],
   "source": [
    "import pandas as pd\n",
    "import matplotlib.pyplot as plt\n",
    "from sklearn.preprocessing import StandardScaler\n",
    "from factor_analyzer import FactorAnalyzer\n",
    "from factor_analyzer.factor_analyzer import calculate_kmo, calculate_bartlett_sphericity\n"
   ]
  },
  {
   "cell_type": "code",
   "execution_count": 2,
   "id": "d646c154-bcaf-40fc-bfe8-7b8652f3f453",
   "metadata": {},
   "outputs": [],
   "source": [
    "# Load dataset\n",
    "df = pd.read_csv(\"https://vincentarelbundock.github.io/Rdatasets/csv/datasets/USArrests.csv\", index_col=0)\n",
    "\n",
    "# -------------------\n",
    "# Step 1. Preprocessing\n",
    "# -------------------\n",
    "X = StandardScaler().fit_transform(df)\n",
    "df_scaled = pd.DataFrame(X, columns=df.columns, index=df.index)\n"
   ]
  },
  {
   "cell_type": "code",
   "execution_count": 3,
   "id": "5506bb0b-21cd-48e0-acfe-eec3e9da43d3",
   "metadata": {},
   "outputs": [
    {
     "name": "stdout",
     "output_type": "stream",
     "text": [
      "KMO: 0.6538150062740203\n"
     ]
    }
   ],
   "source": [
    "# Step 2. Suitability Tests\n",
    "# -------------------\n",
    "kmo_all, kmo_model = calculate_kmo(df_scaled)\n",
    "print(\"KMO:\", kmo_model)"
   ]
  },
  {
   "cell_type": "markdown",
   "id": "e7c31677-2667-404e-9331-ddc7ea07f62f",
   "metadata": {},
   "source": [
    "# Interpretation:\n",
    "Overall KMO = 0.65 (mediocre adequacy but acceptable).Individual MSAs: Murder (0.62), Assault (0.64), UrbanPop (0.50), Rape (0.78).Values closer to 1 are better; 0.50 for UrbanPop is low but still acceptable."
   ]
  },
  {
   "cell_type": "code",
   "execution_count": 4,
   "id": "3e56e897-b014-4660-b606-49172df7e64a",
   "metadata": {},
   "outputs": [
    {
     "name": "stdout",
     "output_type": "stream",
     "text": [
      "Bartlett’s Test: chi2 = 88.28814686595526 , p = 6.868423073358666e-17\n"
     ]
    }
   ],
   "source": [
    "chi_square_value, p_value = calculate_bartlett_sphericity(df_scaled)\n",
    "print(\"Bartlett’s Test: chi2 =\", chi_square_value, \", p =\", p_value)"
   ]
  },
  {
   "cell_type": "markdown",
   "id": "3f0ee363-40e4-4533-a7ec-ed5b2ef9af9e",
   "metadata": {},
   "source": [
    "# Interpretation:\n",
    "Chi-square = 88.29, df = 6, p-value ≈ 0 (6.87e-17). Highly significant, rejecting null hypothesis that variables are uncorrelated. Confirms factor analysis is appropriate"
   ]
  },
  {
   "cell_type": "code",
   "execution_count": 5,
   "id": "17d0efc0-284b-4550-94b3-3e2753a4dbcc",
   "metadata": {},
   "outputs": [
    {
     "data": {
      "image/png": "[encoded data removed]",
      "text/plain": [
       "<Figure size 640x480 with 1 Axes>"
      ]
     },
     "metadata": {},
     "output_type": "display_data"
    }
   ],
   "source": [
    "# Scree plot\n",
    "from numpy.linalg import eig\n",
    "ev, v = eig(df_scaled.corr())\n",
    "plt.plot(range(1, len(ev)+1), ev, \"o-\", color=\"blue\")\n",
    "plt.title(\"Scree Plot\")\n",
    "plt.xlabel(\"Factors\")\n",
    "plt.ylabel(\"Eigenvalue\")\n",
    "plt.axhline(1, color=\"red\", linestyle=\"--\")\n",
    "plt.show()"
   ]
  },
  {
   "cell_type": "markdown",
   "id": "f28772a5-0390-4ec7-a4aa-8498056d4b6f",
   "metadata": {},
   "source": [
    "# Interpretation :\n",
    "Eigenvalues of the correlation matrix are:\n",
    "1st factor ≈ 2.5, 2nd ≈ 1.0, 3rd ≈ 0.4, 4th ≈ 0.15. According to the Kaiser criterion (eigenvalues > 1), two factors should be retained. Scree plot shows a clear \"elbow\" after the 2nd factor, confirming the choice of 2 factors.\n"
   ]
  },
  {
   "cell_type": "code",
   "execution_count": 6,
   "id": "02217b1e-26c9-487c-af1e-029c5bbf41d8",
   "metadata": {},
   "outputs": [
    {
     "name": "stdout",
     "output_type": "stream",
     "text": [
      "Eigenvalues: [2.48024158 0.98976515 0.35656318 0.17343009]\n",
      "Loadings:\n",
      " [[0.96314766 0.02111061]\n",
      " [0.82536478 0.32804053]\n",
      " [0.05814437 0.64285178]\n",
      " [0.57225233 0.58811068]]\n",
      "Variance Explained:\n",
      " (array([1.93973392, 0.86718883]), array([0.48493348, 0.21679721]), array([0.48493348, 0.70173069]))\n"
     ]
    },
    {
     "name": "stderr",
     "output_type": "stream",
     "text": [
      "C:\\Users\\Monir\\anaconda3\\Lib\\site-packages\\sklearn\\utils\\deprecation.py:151: FutureWarning: 'force_all_finite' was renamed to 'ensure_all_finite' in 1.6 and will be removed in 1.8.\n",
      "  warnings.warn(\n"
     ]
    }
   ],
   "source": [
    "# Step 3. Factor Analysis\n",
    "# -------------------\n",
    "fa = FactorAnalyzer(n_factors=2, rotation=\"varimax\", method=\"ml\")\n",
    "fa.fit(df_scaled)\n",
    "\n",
    "print(\"Eigenvalues:\", fa.get_eigenvalues()[0])\n",
    "print(\"Loadings:\\n\", fa.loadings_)\n",
    "print(\"Variance Explained:\\n\", fa.get_factor_variance())"
   ]
  },
  {
   "cell_type": "markdown",
   "id": "c57ec9c6-2ff4-411f-bf39-64fdc6b65850",
   "metadata": {},
   "source": [
    "#Interpretation:\n",
    "ML1 (Factor 1) loads heavily on violent crime indicators Murder (0.95) and Assault (0.84). ML2 (Factor 2) loads more on UrbanPop (0.67) and moderately on Rape (0.55). Rape loads moderately on both factors, suggesting some cross-loading. Communalities (h²) show how much variance of each variable is explained by the factors: Murder and Assault have high communalities (>0.8), meaning most of their variance is explained. UrbanPop is less well explained (0.46). Uniqueness (u²) indicates the variance unique to each variable, unexplained by factors. Complexity shows how many factors load significantly on each variable (1 = clean loading, >1 indicates cross-loading)."
   ]
  },
  {
   "cell_type": "code",
   "execution_count": 7,
   "id": "d51fdde1-1341-4bbc-9561-5a09c881943e",
   "metadata": {},
   "outputs": [
    {
     "name": "stdout",
     "output_type": "stream",
     "text": [
      "                 Factor1   Factor2\n",
      "rownames                          \n",
      "Alabama         1.190539 -0.656436\n",
      "Alaska          0.714578  0.961394\n",
      "Arizona         0.276569  1.405730\n",
      "Arkansas        0.282280 -0.563764\n",
      "California      0.393158  2.052166\n",
      "Colorado        0.079652  1.453445\n",
      "Connecticut    -1.038809  0.069080\n",
      "Delaware       -0.258462  0.385915\n",
      "Florida         1.754615  0.648280\n",
      "Georgia         1.944414 -1.004458\n",
      "Hawaii         -0.788329  0.219344\n",
      "Idaho          -1.066588 -0.221000\n",
      "Illinois        0.601024  0.588786\n",
      "Indiana        -0.226962 -0.186009\n",
      "Iowa           -1.287738 -0.518480\n",
      "Kansas         -0.461472 -0.163475\n",
      "Kentucky        0.278048 -1.148662\n",
      "Louisiana       1.611014 -0.630297\n",
      "Maine          -1.238717 -0.752952\n",
      "Maryland        0.938308  0.476715\n",
      "Massachusetts  -0.767787  0.590991\n",
      "Michigan        0.990826  0.788386\n",
      "Minnesota      -1.184141 -0.076519\n",
      "Mississippi     1.830847 -1.553464\n",
      "Missouri        0.244327  0.385340\n",
      "Montana        -0.431689 -0.621163\n",
      "Nebraska       -0.801319 -0.180428\n",
      "Nevada          1.001240  1.573455\n",
      "New Hampshire  -1.304924 -0.630781\n",
      "New Jersey     -0.183770  0.479061\n",
      "New Mexico      0.925379  0.727818\n",
      "New York        0.738503  0.715097\n",
      "North Carolina  1.390279 -0.849235\n",
      "North Dakota   -1.540072 -0.947307\n",
      "Ohio           -0.227631  0.114658\n",
      "Oklahoma       -0.277511  0.071574\n",
      "Oregon         -0.564145  0.840990\n",
      "Pennsylvania   -0.449196 -0.261616\n",
      "Rhode Island   -0.931243  0.419742\n",
      "South Carolina  1.543297 -0.828017\n",
      "South Dakota   -0.877414 -0.837977\n",
      "Tennessee       1.101882 -0.499387\n",
      "Texas           0.957058  0.091230\n",
      "Utah           -1.024820  0.881199\n",
      "Vermont        -1.217454 -1.212824\n",
      "Virginia        0.114021 -0.253212\n",
      "Washington     -0.791045  0.883020\n",
      "West Virginia  -0.510838 -1.471732\n",
      "Wisconsin      -1.249546 -0.377079\n",
      "Wyoming        -0.200237 -0.377144\n"
     ]
    },
    {
     "name": "stderr",
     "output_type": "stream",
     "text": [
      "C:\\Users\\Monir\\anaconda3\\Lib\\site-packages\\sklearn\\utils\\deprecation.py:151: FutureWarning: 'force_all_finite' was renamed to 'ensure_all_finite' in 1.6 and will be removed in 1.8.\n",
      "  warnings.warn(\n"
     ]
    }
   ],
   "source": [
    "# Step 4. Factor Scores\n",
    "# -------------------\n",
    "factor_scores = fa.transform(df_scaled)\n",
    "print(pd.DataFrame(factor_scores, index=df.index, columns=[\"Factor1\",\"Factor2\"]))\n"
   ]
  },
  {
   "cell_type": "markdown",
   "id": "bdc4d300-0aab-41cc-9be6-a26e0fb4f12e",
   "metadata": {},
   "source": [
    "Factor 1 explains about 49% of variance, Factor 2 about 21%. Together, they explain 70% of the total variance in the data."
   ]
  }
 ],
 "metadata": {
  "kernelspec": {
   "display_name": "Python 3 (ipykernel)",
   "language": "python",
   "name": "python3"
  },
  "language_info": {
   "codemirror_mode": {
    "name": "ipython",
    "version": 3
   },
   "file_extension": ".py",
   "mimetype": "text/x-python",
   "name": "python",
   "nbconvert_exporter": "python",
   "pygments_lexer": "ipython3",
   "version": "3.13.5"
  }
 },
 "nbformat": 4,
 "nbformat_minor": 5
}
